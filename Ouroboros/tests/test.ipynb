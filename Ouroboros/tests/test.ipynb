{
 "cells": [
  {
   "cell_type": "code",
   "execution_count": 1,
   "metadata": {},
   "outputs": [
    {
     "name": "stdout",
     "output_type": "stream",
     "text": [
      "Defaulting to user installation because normal site-packages is not writeable\n",
      "Requirement already satisfied: pygame in /home/drc/.local/lib/python3.10/site-packages (2.6.0)\n"
     ]
    }
   ],
   "source": [
    "!pip install pygame"
   ]
  },
  {
   "cell_type": "code",
   "execution_count": 2,
   "metadata": {},
   "outputs": [
    {
     "name": "stdout",
     "output_type": "stream",
     "text": [
      "pygame 2.6.0 (SDL 2.28.4, Python 3.10.12)\n",
      "Hello from the pygame community. https://www.pygame.org/contribute.html\n"
     ]
    },
    {
     "ename": "FileNotFoundError",
     "evalue": "No such file or directory: '/mnt/data/snake_segment.svg'.",
     "output_type": "error",
     "traceback": [
      "\u001b[0;31m---------------------------------------------------------------------------\u001b[0m",
      "\u001b[0;31mFileNotFoundError\u001b[0m                         Traceback (most recent call last)",
      "Cell \u001b[0;32mIn[2], line 17\u001b[0m\n\u001b[1;32m     14\u001b[0m BLACK \u001b[38;5;241m=\u001b[39m (\u001b[38;5;241m0\u001b[39m, \u001b[38;5;241m0\u001b[39m, \u001b[38;5;241m0\u001b[39m)\n\u001b[1;32m     16\u001b[0m \u001b[38;5;66;03m# Load snake segment image (ensure the path to your svg file is correct)\u001b[39;00m\n\u001b[0;32m---> 17\u001b[0m snake_segment_image \u001b[38;5;241m=\u001b[39m \u001b[43mpygame\u001b[49m\u001b[38;5;241;43m.\u001b[39;49m\u001b[43mimage\u001b[49m\u001b[38;5;241;43m.\u001b[39;49m\u001b[43mload\u001b[49m\u001b[43m(\u001b[49m\u001b[38;5;124;43m\"\u001b[39;49m\u001b[38;5;124;43m/mnt/data/snake_segment.svg\u001b[39;49m\u001b[38;5;124;43m\"\u001b[39;49m\u001b[43m)\u001b[49m\n\u001b[1;32m     18\u001b[0m snake_segment_image \u001b[38;5;241m=\u001b[39m pygame\u001b[38;5;241m.\u001b[39mtransform\u001b[38;5;241m.\u001b[39mscale(snake_segment_image, (\u001b[38;5;241m20\u001b[39m, \u001b[38;5;241m20\u001b[39m))  \u001b[38;5;66;03m# Adjust size to fit block\u001b[39;00m\n\u001b[1;32m     20\u001b[0m \u001b[38;5;66;03m# Block size for snake segments\u001b[39;00m\n",
      "\u001b[0;31mFileNotFoundError\u001b[0m: No such file or directory: '/mnt/data/snake_segment.svg'."
     ]
    }
   ],
   "source": [
    "import pygame\n",
    "import random\n",
    "\n",
    "# Initialize Pygame\n",
    "pygame.init()\n",
    "\n",
    "# Screen dimensions\n",
    "# Updated screen dimensions for larger play area\n",
    "WIDTH, HEIGHT = 800, 600\n",
    "screen = pygame.display.set_mode((WIDTH, HEIGHT))\n",
    "\n",
    "pygame.display.set_caption(\"Two Player Snake Game\")\n",
    "\n",
    "# Colors\n",
    "WHITE = (255, 255, 255)\n",
    "BLACK = (0, 0, 0)\n",
    "GREEN = (0, 255, 0)\n",
    "RED = (255, 0, 0)\n",
    "BLUE = (0, 0, 255)\n",
    "\n",
    "# Clock for controlling the frame rate\n",
    "clock = pygame.time.Clock()\n",
    "\n",
    "# Block size for snake segments\n",
    "BLOCK_SIZE = 20\n",
    "\n",
    "# Game over flag\n",
    "game_over = False\n"
   ]
  },
  {
   "cell_type": "code",
   "execution_count": null,
   "metadata": {},
   "outputs": [],
   "source": [
    "class Snake:\n",
    "    def __init__(self, color, initial_pos):\n",
    "        self.body = [initial_pos]  # List of segments (each segment is a tuple (x, y))\n",
    "        self.direction = pygame.K_RIGHT  # Default direction\n",
    "        self.color = color\n",
    "    \n",
    "    def move(self):\n",
    "        head_x, head_y = self.body[0]\n",
    "        \n",
    "        if self.direction == pygame.K_UP:\n",
    "            new_head = (head_x, head_y - BLOCK_SIZE)\n",
    "        elif self.direction == pygame.K_DOWN:\n",
    "            new_head = (head_x, head_y + BLOCK_SIZE)\n",
    "        elif self.direction == pygame.K_LEFT:\n",
    "            new_head = (head_x - BLOCK_SIZE, head_y)\n",
    "        elif self.direction == pygame.K_RIGHT:\n",
    "            new_head = (head_x + BLOCK_SIZE, head_y)\n",
    "        \n",
    "        # Insert new head at the front\n",
    "        self.body = [new_head] + self.body[:-1]\n",
    "    \n",
    "    def grow(self):\n",
    "        self.body.append(self.body[-1])  # Add a new segment at the tail\n",
    "\n",
    "    def draw(self, screen):\n",
    "        for segment in self.body:\n",
    "            pygame.draw.rect(screen, self.color, [segment[0], segment[1], BLOCK_SIZE, BLOCK_SIZE])\n",
    "\n",
    "# Create two snakes\n",
    "player1_snake = Snake(GREEN, (100, 100))\n",
    "player2_snake = Snake(BLUE, (400, 100))\n"
   ]
  },
  {
   "cell_type": "code",
   "execution_count": null,
   "metadata": {},
   "outputs": [],
   "source": [
    "def handle_movement(events, snake1, snake2):\n",
    "    for event in events:\n",
    "        if event.type == pygame.KEYDOWN:\n",
    "            # Player 1 (WASD controls)\n",
    "            if event.key == pygame.K_w and snake1.direction != pygame.K_DOWN:\n",
    "                snake1.direction = pygame.K_UP\n",
    "            elif event.key == pygame.K_s and snake1.direction != pygame.K_UP:\n",
    "                snake1.direction = pygame.K_DOWN\n",
    "            elif event.key == pygame.K_a and snake1.direction != pygame.K_RIGHT:\n",
    "                snake1.direction = pygame.K_LEFT\n",
    "            elif event.key == pygame.K_d and snake1.direction != pygame.K_LEFT:\n",
    "                snake1.direction = pygame.K_RIGHT\n",
    "            \n",
    "            # Player 2 (Arrow controls)\n",
    "            if event.key == pygame.K_UP and snake2.direction != pygame.K_DOWN:\n",
    "                snake2.direction = pygame.K_UP\n",
    "            elif event.key == pygame.K_DOWN and snake2.direction != pygame.K_UP:\n",
    "                snake2.direction = pygame.K_DOWN\n",
    "            elif event.key == pygame.K_LEFT and snake2.direction != pygame.K_RIGHT:\n",
    "                snake2.direction = pygame.K_LEFT\n",
    "            elif event.key == pygame.K_RIGHT and snake2.direction != pygame.K_LEFT:\n",
    "                snake2.direction = pygame.K_RIGHT\n"
   ]
  },
  {
   "cell_type": "code",
   "execution_count": null,
   "metadata": {},
   "outputs": [],
   "source": [
    "# Main game loop\n",
    "while not game_over:\n",
    "    events = pygame.event.get()\n",
    "    for event in events:\n",
    "        if event.type == pygame.QUIT:\n",
    "            game_over = True\n",
    "\n",
    "    # Handle snake movements\n",
    "    handle_movement(events, player1_snake, player2_snake)\n",
    "\n",
    "    # Move both snakes\n",
    "    player1_snake.move()\n",
    "    player2_snake.move()\n",
    "\n",
    "    # Draw everything\n",
    "    screen.fill(BLACK)  # Clear screen with black\n",
    "    player1_snake.draw(screen)\n",
    "    player2_snake.draw(screen)\n",
    "    \n",
    "    pygame.display.update()\n",
    "    \n",
    "    clock.tick(10)  # Control the speed of the game\n",
    "\n",
    "pygame.quit()\n"
   ]
  }
 ],
 "metadata": {
  "kernelspec": {
   "display_name": "Python 3",
   "language": "python",
   "name": "python3"
  },
  "language_info": {
   "codemirror_mode": {
    "name": "ipython",
    "version": 3
   },
   "file_extension": ".py",
   "mimetype": "text/x-python",
   "name": "python",
   "nbconvert_exporter": "python",
   "pygments_lexer": "ipython3",
   "version": "3.10.12"
  }
 },
 "nbformat": 4,
 "nbformat_minor": 2
}
